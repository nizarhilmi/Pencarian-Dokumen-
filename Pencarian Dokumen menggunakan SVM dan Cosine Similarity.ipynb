{
  "cells": [
    {
      "cell_type": "markdown",
      "metadata": {
        "id": "g1QBKSfXZU8q"
      },
      "source": [
        "# 1. Import Library"
      ]
    },
    {
      "cell_type": "code",
      "execution_count": null,
      "metadata": {
        "id": "_qk4atKeZU8u"
      },
      "outputs": [],
      "source": [
        "# Import Data\n",
        "import pandas as pd \n",
        "import Sastrawi \n",
        "from Sastrawi.Stemmer.StemmerFactory import StemmerFactory # Stemming untuk bahasa indonesia\n",
        "from Sastrawi.StopWordRemover.StopWordRemoverFactory import StopWordRemoverFactory #Stopword bahasa indonesia\n",
        "from itertools import chain # untuk menggabungkan list\n",
        "import nltk # dipakai untuk tokenizing / pemisah kalimat jadi perkata\n",
        "import math\n",
        "import numpy as np"
      ]
    },
    {
      "cell_type": "markdown",
      "metadata": {
        "id": "ktwoExe_ZU8v"
      },
      "source": [
        "## 2. Open Data"
      ]
    },
    {
      "cell_type": "code",
      "execution_count": null,
      "metadata": {
        "colab": {
          "base_uri": "https://localhost:8080/",
          "height": 708
        },
        "id": "BRCrWIOBZU8w",
        "outputId": "a725bca6-b47c-4011-9792-6e93f6c22c00"
      },
      "outputs": [
        {
          "output_type": "execute_result",
          "data": {
            "text/html": [
              "\n",
              "  <div id=\"df-d1225426-7667-4d1c-b4ab-6990d9d9b114\">\n",
              "    <div class=\"colab-df-container\">\n",
              "      <div>\n",
              "<style scoped>\n",
              "    .dataframe tbody tr th:only-of-type {\n",
              "        vertical-align: middle;\n",
              "    }\n",
              "\n",
              "    .dataframe tbody tr th {\n",
              "        vertical-align: top;\n",
              "    }\n",
              "\n",
              "    .dataframe thead th {\n",
              "        text-align: right;\n",
              "    }\n",
              "</style>\n",
              "<table border=\"1\" class=\"dataframe\">\n",
              "  <thead>\n",
              "    <tr style=\"text-align: right;\">\n",
              "      <th></th>\n",
              "      <th>Judul</th>\n",
              "    </tr>\n",
              "  </thead>\n",
              "  <tbody>\n",
              "    <tr>\n",
              "      <th>0</th>\n",
              "      <td>akuntansi dan manajemen ekonomi</td>\n",
              "    </tr>\n",
              "    <tr>\n",
              "      <th>1</th>\n",
              "      <td>Algoritma dan Pemrograman</td>\n",
              "    </tr>\n",
              "    <tr>\n",
              "      <th>2</th>\n",
              "      <td>Dasar-dasar Elektro Teknik</td>\n",
              "    </tr>\n",
              "    <tr>\n",
              "      <th>3</th>\n",
              "      <td>Aplikasi Elektromagnetik</td>\n",
              "    </tr>\n",
              "    <tr>\n",
              "      <th>4</th>\n",
              "      <td>Konsep dan Aplikasi Statika</td>\n",
              "    </tr>\n",
              "    <tr>\n",
              "      <th>5</th>\n",
              "      <td>Pemrograman Linier</td>\n",
              "    </tr>\n",
              "    <tr>\n",
              "      <th>6</th>\n",
              "      <td>Rangkaian Listrik</td>\n",
              "    </tr>\n",
              "    <tr>\n",
              "      <th>7</th>\n",
              "      <td>Ekologi Industri</td>\n",
              "    </tr>\n",
              "    <tr>\n",
              "      <th>8</th>\n",
              "      <td>Kriptografi untuk Keamanan Jaringan</td>\n",
              "    </tr>\n",
              "    <tr>\n",
              "      <th>9</th>\n",
              "      <td>Teknik Digital</td>\n",
              "    </tr>\n",
              "    <tr>\n",
              "      <th>10</th>\n",
              "      <td>Logika Matematika untuk Teknik Komputer</td>\n",
              "    </tr>\n",
              "    <tr>\n",
              "      <th>11</th>\n",
              "      <td>Prinsip-prinsip Ekonomi</td>\n",
              "    </tr>\n",
              "    <tr>\n",
              "      <th>12</th>\n",
              "      <td>Kaya dan Bisnis Properti</td>\n",
              "    </tr>\n",
              "    <tr>\n",
              "      <th>13</th>\n",
              "      <td>Kitab Suci Pemain Saham</td>\n",
              "    </tr>\n",
              "    <tr>\n",
              "      <th>14</th>\n",
              "      <td>Hukum Bisnis Pasar Modal</td>\n",
              "    </tr>\n",
              "    <tr>\n",
              "      <th>15</th>\n",
              "      <td>Mengenal Aspek-aspek Operasi Bank Umum</td>\n",
              "    </tr>\n",
              "    <tr>\n",
              "      <th>16</th>\n",
              "      <td>Akuntansi Bank Teori dan Aplikasi dalam Rupiah</td>\n",
              "    </tr>\n",
              "    <tr>\n",
              "      <th>17</th>\n",
              "      <td>Lanskap Ekonomi Indonesia</td>\n",
              "    </tr>\n",
              "    <tr>\n",
              "      <th>18</th>\n",
              "      <td>Pengantar Manajemen</td>\n",
              "    </tr>\n",
              "    <tr>\n",
              "      <th>19</th>\n",
              "      <td>Makro Ekonomi Indonesia</td>\n",
              "    </tr>\n",
              "    <tr>\n",
              "      <th>20</th>\n",
              "      <td>Manajemen Keuangan Multinasional</td>\n",
              "    </tr>\n",
              "  </tbody>\n",
              "</table>\n",
              "</div>\n",
              "      <button class=\"colab-df-convert\" onclick=\"convertToInteractive('df-d1225426-7667-4d1c-b4ab-6990d9d9b114')\"\n",
              "              title=\"Convert this dataframe to an interactive table.\"\n",
              "              style=\"display:none;\">\n",
              "        \n",
              "  <svg xmlns=\"http://www.w3.org/2000/svg\" height=\"24px\"viewBox=\"0 0 24 24\"\n",
              "       width=\"24px\">\n",
              "    <path d=\"M0 0h24v24H0V0z\" fill=\"none\"/>\n",
              "    <path d=\"M18.56 5.44l.94 2.06.94-2.06 2.06-.94-2.06-.94-.94-2.06-.94 2.06-2.06.94zm-11 1L8.5 8.5l.94-2.06 2.06-.94-2.06-.94L8.5 2.5l-.94 2.06-2.06.94zm10 10l.94 2.06.94-2.06 2.06-.94-2.06-.94-.94-2.06-.94 2.06-2.06.94z\"/><path d=\"M17.41 7.96l-1.37-1.37c-.4-.4-.92-.59-1.43-.59-.52 0-1.04.2-1.43.59L10.3 9.45l-7.72 7.72c-.78.78-.78 2.05 0 2.83L4 21.41c.39.39.9.59 1.41.59.51 0 1.02-.2 1.41-.59l7.78-7.78 2.81-2.81c.8-.78.8-2.07 0-2.86zM5.41 20L4 18.59l7.72-7.72 1.47 1.35L5.41 20z\"/>\n",
              "  </svg>\n",
              "      </button>\n",
              "      \n",
              "  <style>\n",
              "    .colab-df-container {\n",
              "      display:flex;\n",
              "      flex-wrap:wrap;\n",
              "      gap: 12px;\n",
              "    }\n",
              "\n",
              "    .colab-df-convert {\n",
              "      background-color: #E8F0FE;\n",
              "      border: none;\n",
              "      border-radius: 50%;\n",
              "      cursor: pointer;\n",
              "      display: none;\n",
              "      fill: #1967D2;\n",
              "      height: 32px;\n",
              "      padding: 0 0 0 0;\n",
              "      width: 32px;\n",
              "    }\n",
              "\n",
              "    .colab-df-convert:hover {\n",
              "      background-color: #E2EBFA;\n",
              "      box-shadow: 0px 1px 2px rgba(60, 64, 67, 0.3), 0px 1px 3px 1px rgba(60, 64, 67, 0.15);\n",
              "      fill: #174EA6;\n",
              "    }\n",
              "\n",
              "    [theme=dark] .colab-df-convert {\n",
              "      background-color: #3B4455;\n",
              "      fill: #D2E3FC;\n",
              "    }\n",
              "\n",
              "    [theme=dark] .colab-df-convert:hover {\n",
              "      background-color: #434B5C;\n",
              "      box-shadow: 0px 1px 3px 1px rgba(0, 0, 0, 0.15);\n",
              "      filter: drop-shadow(0px 1px 2px rgba(0, 0, 0, 0.3));\n",
              "      fill: #FFFFFF;\n",
              "    }\n",
              "  </style>\n",
              "\n",
              "      <script>\n",
              "        const buttonEl =\n",
              "          document.querySelector('#df-d1225426-7667-4d1c-b4ab-6990d9d9b114 button.colab-df-convert');\n",
              "        buttonEl.style.display =\n",
              "          google.colab.kernel.accessAllowed ? 'block' : 'none';\n",
              "\n",
              "        async function convertToInteractive(key) {\n",
              "          const element = document.querySelector('#df-d1225426-7667-4d1c-b4ab-6990d9d9b114');\n",
              "          const dataTable =\n",
              "            await google.colab.kernel.invokeFunction('convertToInteractive',\n",
              "                                                     [key], {});\n",
              "          if (!dataTable) return;\n",
              "\n",
              "          const docLinkHtml = 'Like what you see? Visit the ' +\n",
              "            '<a target=\"_blank\" href=https://colab.research.google.com/notebooks/data_table.ipynb>data table notebook</a>'\n",
              "            + ' to learn more about interactive tables.';\n",
              "          element.innerHTML = '';\n",
              "          dataTable['output_type'] = 'display_data';\n",
              "          await google.colab.output.renderOutput(dataTable, element);\n",
              "          const docLink = document.createElement('div');\n",
              "          docLink.innerHTML = docLinkHtml;\n",
              "          element.appendChild(docLink);\n",
              "        }\n",
              "      </script>\n",
              "    </div>\n",
              "  </div>\n",
              "  "
            ],
            "text/plain": [
              "                                             Judul\n",
              "0                  akuntansi dan manajemen ekonomi\n",
              "1                        Algoritma dan Pemrograman\n",
              "2                       Dasar-dasar Elektro Teknik\n",
              "3                         Aplikasi Elektromagnetik\n",
              "4                      Konsep dan Aplikasi Statika\n",
              "5                               Pemrograman Linier\n",
              "6                                Rangkaian Listrik\n",
              "7                                 Ekologi Industri\n",
              "8              Kriptografi untuk Keamanan Jaringan\n",
              "9                                   Teknik Digital\n",
              "10         Logika Matematika untuk Teknik Komputer\n",
              "11                         Prinsip-prinsip Ekonomi\n",
              "12                        Kaya dan Bisnis Properti\n",
              "13                         Kitab Suci Pemain Saham\n",
              "14                        Hukum Bisnis Pasar Modal\n",
              "15          Mengenal Aspek-aspek Operasi Bank Umum\n",
              "16  Akuntansi Bank Teori dan Aplikasi dalam Rupiah\n",
              "17                       Lanskap Ekonomi Indonesia\n",
              "18                            Pengantar Manajemen \n",
              "19                         Makro Ekonomi Indonesia\n",
              "20                Manajemen Keuangan Multinasional"
            ]
          },
          "metadata": {},
          "execution_count": 80
        }
      ],
      "source": [
        "baca = pd.read_csv('dataset.csv', sep=';') # membaca data dari file csv memakai pandas\n",
        "baca"
      ]
    },
    {
      "cell_type": "code",
      "execution_count": null,
      "metadata": {
        "colab": {
          "base_uri": "https://localhost:8080/"
        },
        "id": "Pp3CyfJmZU8x",
        "outputId": "930a7ef8-bd9a-4c26-8155-673ae9164ddf"
      },
      "outputs": [
        {
          "output_type": "execute_result",
          "data": {
            "text/plain": [
              "[['akuntansi dan manajemen ekonomi'],\n",
              " ['Algoritma dan Pemrograman'],\n",
              " ['Dasar-dasar Elektro Teknik'],\n",
              " ['Aplikasi Elektromagnetik'],\n",
              " ['Konsep dan Aplikasi Statika'],\n",
              " ['Pemrograman Linier'],\n",
              " ['Rangkaian Listrik'],\n",
              " ['Ekologi Industri'],\n",
              " ['Kriptografi untuk Keamanan Jaringan'],\n",
              " ['Teknik Digital'],\n",
              " ['Logika Matematika untuk Teknik Komputer'],\n",
              " ['Prinsip-prinsip Ekonomi'],\n",
              " ['Kaya dan Bisnis Properti'],\n",
              " ['Kitab Suci Pemain Saham'],\n",
              " ['Hukum Bisnis Pasar Modal'],\n",
              " ['Mengenal Aspek-aspek Operasi Bank Umum'],\n",
              " ['Akuntansi Bank Teori dan Aplikasi dalam Rupiah'],\n",
              " ['Lanskap Ekonomi Indonesia'],\n",
              " ['Pengantar Manajemen '],\n",
              " ['Makro Ekonomi Indonesia'],\n",
              " ['Manajemen Keuangan Multinasional']]"
            ]
          },
          "metadata": {},
          "execution_count": 81
        }
      ],
      "source": [
        "# Mengambil teks isinya saja dari file dataset.csv (tanpa judul dan index)\n",
        "# dan mengubah dari bentuk Dataframe (pandas) ke List\n",
        "data = baca.values.tolist()\n",
        "data"
      ]
    },
    {
      "cell_type": "code",
      "execution_count": null,
      "metadata": {
        "id": "hY9eyNP3ZU8x"
      },
      "outputs": [],
      "source": [
        "# MEMBUAT VARIABEL SEBAGAI ALAT UNTUK STOPWORD DAN STEMMING\n",
        "# Buat Alat Stopword\n",
        "stop = StopWordRemoverFactory()\n",
        "stopword = stop.create_stop_word_remover()\n",
        "\n",
        "# Buat Alat Stemming\n",
        "stem = StemmerFactory()\n",
        "stemmer = stem.create_stemmer()\n"
      ]
    },
    {
      "cell_type": "code",
      "execution_count": null,
      "metadata": {
        "colab": {
          "base_uri": "https://localhost:8080/"
        },
        "id": "rs6zqP1UZU8y",
        "outputId": "a6d7dd42-1ad4-4a82-8182-49c1138c4766"
      },
      "outputs": [
        {
          "output_type": "execute_result",
          "data": {
            "text/plain": [
              "['akuntansi dan manajemen ekonomi',\n",
              " 'Algoritma dan Pemrograman',\n",
              " 'Dasar-dasar Elektro Teknik',\n",
              " 'Aplikasi Elektromagnetik',\n",
              " 'Konsep dan Aplikasi Statika',\n",
              " 'Pemrograman Linier',\n",
              " 'Rangkaian Listrik',\n",
              " 'Ekologi Industri',\n",
              " 'Kriptografi untuk Keamanan Jaringan',\n",
              " 'Teknik Digital',\n",
              " 'Logika Matematika untuk Teknik Komputer',\n",
              " 'Prinsip-prinsip Ekonomi',\n",
              " 'Kaya dan Bisnis Properti',\n",
              " 'Kitab Suci Pemain Saham',\n",
              " 'Hukum Bisnis Pasar Modal',\n",
              " 'Mengenal Aspek-aspek Operasi Bank Umum',\n",
              " 'Akuntansi Bank Teori dan Aplikasi dalam Rupiah',\n",
              " 'Lanskap Ekonomi Indonesia',\n",
              " 'Pengantar Manajemen ',\n",
              " 'Makro Ekonomi Indonesia',\n",
              " 'Manajemen Keuangan Multinasional']"
            ]
          },
          "metadata": {},
          "execution_count": 83
        }
      ],
      "source": [
        "# membuat data menjadi 1 list agar dapat di olah pada Stopword dan Stemming\n",
        "data_list = list(chain.from_iterable(data))\n",
        "data_list"
      ]
    },
    {
      "cell_type": "code",
      "execution_count": null,
      "metadata": {
        "colab": {
          "base_uri": "https://localhost:8080/"
        },
        "id": "NVAuI-SLZU8y",
        "outputId": "d7a3f6f2-7770-4593-d139-3d652b39531e"
      },
      "outputs": [
        {
          "output_type": "execute_result",
          "data": {
            "text/plain": [
              "['akuntansi dan manajemen ekonomi',\n",
              " 'algoritma dan pemrograman',\n",
              " 'dasar-dasar elektro teknik',\n",
              " 'aplikasi elektromagnetik',\n",
              " 'konsep dan aplikasi statika',\n",
              " 'pemrograman linier',\n",
              " 'rangkaian listrik',\n",
              " 'ekologi industri',\n",
              " 'kriptografi untuk keamanan jaringan',\n",
              " 'teknik digital',\n",
              " 'logika matematika untuk teknik komputer',\n",
              " 'prinsip-prinsip ekonomi',\n",
              " 'kaya dan bisnis properti',\n",
              " 'kitab suci pemain saham',\n",
              " 'hukum bisnis pasar modal',\n",
              " 'mengenal aspek-aspek operasi bank umum',\n",
              " 'akuntansi bank teori dan aplikasi dalam rupiah',\n",
              " 'lanskap ekonomi indonesia',\n",
              " 'pengantar manajemen ',\n",
              " 'makro ekonomi indonesia',\n",
              " 'manajemen keuangan multinasional']"
            ]
          },
          "metadata": {},
          "execution_count": 84
        }
      ],
      "source": [
        "# Membuat Huruf menjadi kecil (lowercase)\n",
        "data_lower = list() #untuk menampung data yang sudah dikecilkan hurufnya\n",
        "for i in range(0, len(data_list)):\n",
        "    data_lower.append(data_list[i].lower())\n",
        "    \n",
        "data_lower"
      ]
    },
    {
      "cell_type": "code",
      "execution_count": null,
      "metadata": {
        "colab": {
          "base_uri": "https://localhost:8080/"
        },
        "id": "mPwK6E2JZU8z",
        "outputId": "045c50a1-ae14-4e87-bdf0-1c9af2bbc0f5"
      },
      "outputs": [
        {
          "output_type": "execute_result",
          "data": {
            "text/plain": [
              "['akuntansi manajemen ekonomi',\n",
              " 'algoritma pemrograman',\n",
              " 'dasar-dasar elektro teknik',\n",
              " 'aplikasi elektromagnetik',\n",
              " 'konsep aplikasi statika',\n",
              " 'pemrograman linier',\n",
              " 'rangkaian listrik',\n",
              " 'ekologi industri',\n",
              " 'kriptografi keamanan jaringan',\n",
              " 'teknik digital',\n",
              " 'logika matematika teknik komputer',\n",
              " 'prinsip-prinsip ekonomi',\n",
              " 'kaya bisnis properti',\n",
              " 'kitab suci pemain saham',\n",
              " 'hukum bisnis pasar modal',\n",
              " 'mengenal aspek-aspek operasi bank umum',\n",
              " 'akuntansi bank teori aplikasi rupiah',\n",
              " 'lanskap ekonomi indonesia',\n",
              " 'pengantar manajemen ',\n",
              " 'makro ekonomi indonesia',\n",
              " 'manajemen keuangan multinasional']"
            ]
          },
          "metadata": {},
          "execution_count": 85
        }
      ],
      "source": [
        "# Contoh Stopword\n",
        "wadah = list()\n",
        "index = 0\n",
        "for i in range(0, len(data_lower)):\n",
        "    wadah.append(stopword.remove(data_lower[i]))\n",
        "wadah"
      ]
    },
    {
      "cell_type": "code",
      "source": [
        "# Contoh Stemmer\n",
        "wadah = list()\n",
        "index = 0\n",
        "for i in range(0, len(data_lower)):\n",
        "    wadah.append(stemmer.stem(data_lower[i]))\n",
        "wadah"
      ],
      "metadata": {
        "colab": {
          "base_uri": "https://localhost:8080/"
        },
        "id": "XdJoZ9hfuabs",
        "outputId": "d683eefc-cede-4897-cd57-d69e8372e269"
      },
      "execution_count": null,
      "outputs": [
        {
          "output_type": "execute_result",
          "data": {
            "text/plain": [
              "['akuntansi dan manajemen ekonomi',\n",
              " 'algoritma dan pemrograman',\n",
              " 'dasar elektro teknik',\n",
              " 'aplikasi elektromagnetik',\n",
              " 'konsep dan aplikasi statika',\n",
              " 'pemrograman linier',\n",
              " 'rangkai listrik',\n",
              " 'ekologi industri',\n",
              " 'kriptografi untuk aman jaring',\n",
              " 'teknik digital',\n",
              " 'logika matematika untuk teknik komputer',\n",
              " 'prinsip ekonomi',\n",
              " 'kaya dan bisnis properti',\n",
              " 'kitab suci main saham',\n",
              " 'hukum bisnis pasar modal',\n",
              " 'kenal aspek operasi bank umum',\n",
              " 'akuntansi bank teori dan aplikasi dalam rupiah',\n",
              " 'lanskap ekonomi indonesia',\n",
              " 'antar manajemen',\n",
              " 'makro ekonomi indonesia',\n",
              " 'manajemen uang multinasional']"
            ]
          },
          "metadata": {},
          "execution_count": 86
        }
      ]
    },
    {
      "cell_type": "code",
      "execution_count": null,
      "metadata": {
        "id": "0_u-ZJ91ZU80"
      },
      "outputs": [],
      "source": [
        "token = list()  # untuk menampung data yang sudah dipisahkan perkata\n",
        "filter_kata = list()  # untuk menampung data yang sudah di filter / stopword\n",
        "kata_dasar = list()  # untuk menampung data yang sudah di stemming / kata dasar\n",
        "index = 0  \n",
        "for kalimat in wadah:\n",
        "    filter_kata.append(stopword.remove(kalimat))  # proses Stopword\n",
        "    kata_dasar.append(stemmer.stem(filter_kata[index]))  # Proses Stemming\n",
        "    token.append(nltk.word_tokenize(kata_dasar[index])) # Proses pemisahan dari kalimat menjadi kata\n",
        "    final_kata = token\n",
        "    index+=1"
      ]
    },
    {
      "cell_type": "markdown",
      "metadata": {
        "id": "1wkatrKhZU81"
      },
      "source": [
        "# 3. Pembobotan TF-IDF"
      ]
    },
    {
      "cell_type": "code",
      "execution_count": null,
      "metadata": {
        "id": "1SBr6j4LZU83"
      },
      "outputs": [],
      "source": [
        "# Menghitung Term Frequence -> Berapa banyak kata tersebut ada dalam dokumen\n",
        "def compute_tf(word_dict, filtered_word):\n",
        "    tfDict = {}\n",
        "    filtered_wordcount = len(filtered_word)\n",
        "    for word, count in word_dict.items():\n",
        "        if count == 0:\n",
        "            tfDict[word] = count\n",
        "        else:\n",
        "            tfDict[word] = 1 + (math.log10(count))\n",
        "#         print(word, count)\n",
        "#         print(tfDict)\n",
        "#         print(\"-\"*100)\n",
        "    return tfDict\n",
        "\n",
        "# Menghitung Inverse Document Frequence -> Seberapa Umum Kata Tersebut terhadap Keseluruhan Dokumen\n",
        "def compute_idf(doc_list):\n",
        "    print(\"#\"*100)\n",
        "    import math\n",
        "    N = len(doc_list)\n",
        "#     print(\"Banyak Dokumen:\", N)\n",
        "\n",
        "    # Count the number of documents that contain a word w\n",
        "    idDict = dict.fromkeys(doc_list[0].keys(), 0)\n",
        "    for doc in doc_list:\n",
        "        for word, val in doc.items():\n",
        "            if val > 0:\n",
        "                idDict[word] += 1\n",
        "#     print(\"Document Frequency:\", idDict)\n",
        "\n",
        "    # Devide N by decombinator above, take the log of that\n",
        "    for word, val in idDict.items():\n",
        "        print(word, val)\n",
        "        idDict[word] = 1 + (math.log10(N/float(val)))\n",
        "    return idDict\n",
        "\n",
        "\n",
        "# Menghitung TF.IDF\n",
        "def compute_tfidf(tf_hadits, idfs):\n",
        "    tfidf = {}\n",
        "    for word, val in tf_hadits.items():\n",
        "        tfidf[word] = val * idfs[word]\n",
        "    return tfidf"
      ]
    },
    {
      "cell_type": "code",
      "execution_count": null,
      "metadata": {
        "colab": {
          "base_uri": "https://localhost:8080/"
        },
        "id": "SrIy_Y2hZU84",
        "outputId": "048eb156-141e-4997-d696-22321d773266"
      },
      "outputs": [
        {
          "output_type": "stream",
          "name": "stdout",
          "text": [
            "corpus: ['akuntansi', 'manajemen', 'ekonomi', 'algoritma', 'pemrograman', 'dasar', 'elektro', 'teknik', 'aplikasi', 'elektromagnetik', 'konsep', 'aplikasi', 'statika', 'pemrograman', 'linier', 'rangkai', 'listrik', 'ekologi', 'industri', 'kriptografi', 'aman', 'jaring', 'teknik', 'digital', 'logika', 'matematika', 'teknik', 'komputer', 'prinsip', 'ekonomi', 'kaya', 'bisnis', 'properti', 'kitab', 'suci', 'main', 'saham', 'hukum', 'bisnis', 'pasar', 'modal', 'kenal', 'aspek', 'operasi', 'bank', 'umum', 'akuntansi', 'bank', 'teori', 'aplikasi', 'rupiah', 'lanskap', 'ekonomi', 'indonesia', 'antar', 'manajemen', 'makro', 'ekonomi', 'indonesia', 'manajemen', 'uang', 'multinasional']\n"
          ]
        }
      ],
      "source": [
        "# Data dar hasil Preprocessing di satukan menjadi 1 List\n",
        "corpus = list(chain.from_iterable(final_kata))\n",
        "print('corpus:', corpus)\n"
      ]
    },
    {
      "cell_type": "code",
      "execution_count": null,
      "metadata": {
        "colab": {
          "base_uri": "https://localhost:8080/"
        },
        "id": "Mwcd8wKqZU85",
        "outputId": "792a9bd9-fc33-4cef-cf52-415590d3ce4b"
      },
      "outputs": [
        {
          "output_type": "stream",
          "name": "stdout",
          "text": [
            "wordSet: {'ekonomi', 'aspek', 'linier', 'teknik', 'properti', 'jaring', 'kenal', 'ekologi', 'bank', 'komputer', 'prinsip', 'rupiah', 'pasar', 'dasar', 'indonesia', 'digital', 'matematika', 'industri', 'rangkai', 'teori', 'algoritma', 'operasi', 'konsep', 'hukum', 'makro', 'akuntansi', 'statika', 'suci', 'aman', 'pemrograman', 'umum', 'listrik', 'elektro', 'kitab', 'uang', 'aplikasi', 'manajemen', 'modal', 'main', 'multinasional', 'kriptografi', 'lanskap', 'logika', 'saham', 'bisnis', 'elektromagnetik', 'antar', 'kaya'}\n"
          ]
        }
      ],
      "source": [
        "# Penggabungan semua kata menjadi satu Set dan penghilangan kata yang sama\n",
        "wordSet = (set().union(corpus))\n",
        "\n",
        "print('wordSet:',wordSet)"
      ]
    },
    {
      "cell_type": "code",
      "execution_count": null,
      "metadata": {
        "id": "JeAbi39OZU85"
      },
      "outputs": [],
      "source": [
        "# Membuat Kamus Kata (Dictionary Word) untuk menyimpan perhitungan\n",
        "# Serta memberi nilai awal 0\n",
        "wordDict = []\n",
        "for i in range(0, len(data_list)):\n",
        "    wordDict.append(dict.fromkeys(wordSet, 0))"
      ]
    },
    {
      "cell_type": "code",
      "execution_count": null,
      "metadata": {
        "colab": {
          "base_uri": "https://localhost:8080/"
        },
        "id": "4o0PRkJOZU85",
        "outputId": "fde8dd1c-10e2-4b25-e3b1-6f73b308b317"
      },
      "outputs": [
        {
          "output_type": "stream",
          "name": "stdout",
          "text": [
            "wordDict[0]: {'ekonomi': 1, 'aspek': 0, 'linier': 0, 'teknik': 0, 'properti': 0, 'jaring': 0, 'kenal': 0, 'ekologi': 0, 'bank': 0, 'komputer': 0, 'prinsip': 0, 'rupiah': 0, 'pasar': 0, 'dasar': 0, 'indonesia': 0, 'digital': 0, 'matematika': 0, 'industri': 0, 'rangkai': 0, 'teori': 0, 'algoritma': 0, 'operasi': 0, 'konsep': 0, 'hukum': 0, 'makro': 0, 'akuntansi': 1, 'statika': 0, 'suci': 0, 'aman': 0, 'pemrograman': 0, 'umum': 0, 'listrik': 0, 'elektro': 0, 'kitab': 0, 'uang': 0, 'aplikasi': 0, 'manajemen': 1, 'modal': 0, 'main': 0, 'multinasional': 0, 'kriptografi': 0, 'lanskap': 0, 'logika': 0, 'saham': 0, 'bisnis': 0, 'elektromagnetik': 0, 'antar': 0, 'kaya': 0}\n",
            "\n",
            "wordDict[1] {'ekonomi': 0, 'aspek': 0, 'linier': 0, 'teknik': 0, 'properti': 0, 'jaring': 0, 'kenal': 0, 'ekologi': 0, 'bank': 0, 'komputer': 0, 'prinsip': 0, 'rupiah': 0, 'pasar': 0, 'dasar': 0, 'indonesia': 0, 'digital': 0, 'matematika': 0, 'industri': 0, 'rangkai': 0, 'teori': 0, 'algoritma': 1, 'operasi': 0, 'konsep': 0, 'hukum': 0, 'makro': 0, 'akuntansi': 0, 'statika': 0, 'suci': 0, 'aman': 0, 'pemrograman': 1, 'umum': 0, 'listrik': 0, 'elektro': 0, 'kitab': 0, 'uang': 0, 'aplikasi': 0, 'manajemen': 0, 'modal': 0, 'main': 0, 'multinasional': 0, 'kriptografi': 0, 'lanskap': 0, 'logika': 0, 'saham': 0, 'bisnis': 0, 'elektromagnetik': 0, 'antar': 0, 'kaya': 0}\n",
            "\n",
            "wordDict[2] {'ekonomi': 0, 'aspek': 0, 'linier': 0, 'teknik': 1, 'properti': 0, 'jaring': 0, 'kenal': 0, 'ekologi': 0, 'bank': 0, 'komputer': 0, 'prinsip': 0, 'rupiah': 0, 'pasar': 0, 'dasar': 1, 'indonesia': 0, 'digital': 0, 'matematika': 0, 'industri': 0, 'rangkai': 0, 'teori': 0, 'algoritma': 0, 'operasi': 0, 'konsep': 0, 'hukum': 0, 'makro': 0, 'akuntansi': 0, 'statika': 0, 'suci': 0, 'aman': 0, 'pemrograman': 0, 'umum': 0, 'listrik': 0, 'elektro': 1, 'kitab': 0, 'uang': 0, 'aplikasi': 0, 'manajemen': 0, 'modal': 0, 'main': 0, 'multinasional': 0, 'kriptografi': 0, 'lanskap': 0, 'logika': 0, 'saham': 0, 'bisnis': 0, 'elektromagnetik': 0, 'antar': 0, 'kaya': 0}\n",
            "\n",
            "wordDict[3] {'ekonomi': 0, 'aspek': 0, 'linier': 0, 'teknik': 0, 'properti': 0, 'jaring': 0, 'kenal': 0, 'ekologi': 0, 'bank': 0, 'komputer': 0, 'prinsip': 0, 'rupiah': 0, 'pasar': 0, 'dasar': 0, 'indonesia': 0, 'digital': 0, 'matematika': 0, 'industri': 0, 'rangkai': 0, 'teori': 0, 'algoritma': 0, 'operasi': 0, 'konsep': 0, 'hukum': 0, 'makro': 0, 'akuntansi': 0, 'statika': 0, 'suci': 0, 'aman': 0, 'pemrograman': 0, 'umum': 0, 'listrik': 0, 'elektro': 0, 'kitab': 0, 'uang': 0, 'aplikasi': 1, 'manajemen': 0, 'modal': 0, 'main': 0, 'multinasional': 0, 'kriptografi': 0, 'lanskap': 0, 'logika': 0, 'saham': 0, 'bisnis': 0, 'elektromagnetik': 1, 'antar': 0, 'kaya': 0}\n",
            "=============================================================================================================================\n"
          ]
        }
      ],
      "source": [
        "# Proses perhitungan banyaknya Kata pada Dokumen masing2\n",
        "nomor = 0\n",
        "for i in range(0, len(data_list)):\n",
        "    for word in final_kata[nomor]:\n",
        "        wordDict[nomor][word] += 1\n",
        "    nomor += 1\n",
        "\n",
        "print(\"wordDict[0]:\",wordDict[0])\n",
        "print()\n",
        "print(\"wordDict[1]\", wordDict[1])\n",
        "print()\n",
        "print(\"wordDict[2]\", wordDict[2])\n",
        "print()\n",
        "print(\"wordDict[3]\", wordDict[3])\n",
        "print(\"=\"*125)"
      ]
    },
    {
      "cell_type": "code",
      "execution_count": null,
      "metadata": {
        "colab": {
          "base_uri": "https://localhost:8080/"
        },
        "id": "bwQJ0tSTZU86",
        "outputId": "3d05e746-6008-49af-e99c-02bf322c8f59"
      },
      "outputs": [
        {
          "output_type": "stream",
          "name": "stdout",
          "text": [
            "tf[0] {'ekonomi': 1.0, 'aspek': 0, 'linier': 0, 'teknik': 0, 'properti': 0, 'jaring': 0, 'kenal': 0, 'ekologi': 0, 'bank': 0, 'komputer': 0, 'prinsip': 0, 'rupiah': 0, 'pasar': 0, 'dasar': 0, 'indonesia': 0, 'digital': 0, 'matematika': 0, 'industri': 0, 'rangkai': 0, 'teori': 0, 'algoritma': 0, 'operasi': 0, 'konsep': 0, 'hukum': 0, 'makro': 0, 'akuntansi': 1.0, 'statika': 0, 'suci': 0, 'aman': 0, 'pemrograman': 0, 'umum': 0, 'listrik': 0, 'elektro': 0, 'kitab': 0, 'uang': 0, 'aplikasi': 0, 'manajemen': 1.0, 'modal': 0, 'main': 0, 'multinasional': 0, 'kriptografi': 0, 'lanskap': 0, 'logika': 0, 'saham': 0, 'bisnis': 0, 'elektromagnetik': 0, 'antar': 0, 'kaya': 0}\n",
            "\n",
            "tf[1] {'ekonomi': 0, 'aspek': 0, 'linier': 0, 'teknik': 0, 'properti': 0, 'jaring': 0, 'kenal': 0, 'ekologi': 0, 'bank': 0, 'komputer': 0, 'prinsip': 0, 'rupiah': 0, 'pasar': 0, 'dasar': 0, 'indonesia': 0, 'digital': 0, 'matematika': 0, 'industri': 0, 'rangkai': 0, 'teori': 0, 'algoritma': 1.0, 'operasi': 0, 'konsep': 0, 'hukum': 0, 'makro': 0, 'akuntansi': 0, 'statika': 0, 'suci': 0, 'aman': 0, 'pemrograman': 1.0, 'umum': 0, 'listrik': 0, 'elektro': 0, 'kitab': 0, 'uang': 0, 'aplikasi': 0, 'manajemen': 0, 'modal': 0, 'main': 0, 'multinasional': 0, 'kriptografi': 0, 'lanskap': 0, 'logika': 0, 'saham': 0, 'bisnis': 0, 'elektromagnetik': 0, 'antar': 0, 'kaya': 0}\n",
            "\n",
            "tf[2] {'ekonomi': 0, 'aspek': 0, 'linier': 0, 'teknik': 1.0, 'properti': 0, 'jaring': 0, 'kenal': 0, 'ekologi': 0, 'bank': 0, 'komputer': 0, 'prinsip': 0, 'rupiah': 0, 'pasar': 0, 'dasar': 1.0, 'indonesia': 0, 'digital': 0, 'matematika': 0, 'industri': 0, 'rangkai': 0, 'teori': 0, 'algoritma': 0, 'operasi': 0, 'konsep': 0, 'hukum': 0, 'makro': 0, 'akuntansi': 0, 'statika': 0, 'suci': 0, 'aman': 0, 'pemrograman': 0, 'umum': 0, 'listrik': 0, 'elektro': 1.0, 'kitab': 0, 'uang': 0, 'aplikasi': 0, 'manajemen': 0, 'modal': 0, 'main': 0, 'multinasional': 0, 'kriptografi': 0, 'lanskap': 0, 'logika': 0, 'saham': 0, 'bisnis': 0, 'elektromagnetik': 0, 'antar': 0, 'kaya': 0}\n",
            "\n",
            "tf[3] {'ekonomi': 0, 'aspek': 0, 'linier': 0, 'teknik': 0, 'properti': 0, 'jaring': 0, 'kenal': 0, 'ekologi': 0, 'bank': 0, 'komputer': 0, 'prinsip': 0, 'rupiah': 0, 'pasar': 0, 'dasar': 0, 'indonesia': 0, 'digital': 0, 'matematika': 0, 'industri': 0, 'rangkai': 0, 'teori': 0, 'algoritma': 0, 'operasi': 0, 'konsep': 0, 'hukum': 0, 'makro': 0, 'akuntansi': 0, 'statika': 0, 'suci': 0, 'aman': 0, 'pemrograman': 0, 'umum': 0, 'listrik': 0, 'elektro': 0, 'kitab': 0, 'uang': 0, 'aplikasi': 1.0, 'manajemen': 0, 'modal': 0, 'main': 0, 'multinasional': 0, 'kriptografi': 0, 'lanskap': 0, 'logika': 0, 'saham': 0, 'bisnis': 0, 'elektromagnetik': 1.0, 'antar': 0, 'kaya': 0}\n",
            "=============================================================================================================================\n"
          ]
        }
      ],
      "source": [
        "# Menghitung TF(Term Frequence)\n",
        "tf = list()\n",
        "for i in range(0, len(data_lower)):\n",
        "    tf.append(compute_tf(wordDict[i], final_kata[i]))\n",
        "\n",
        "print(\"tf[0]\", tf[0])\n",
        "print()\n",
        "print(\"tf[1]\", tf[1])\n",
        "print()\n",
        "print(\"tf[2]\", tf[2])\n",
        "print()\n",
        "print(\"tf[3]\", tf[3])\n",
        "print(\"=\"*125)"
      ]
    },
    {
      "cell_type": "code",
      "execution_count": null,
      "metadata": {
        "colab": {
          "base_uri": "https://localhost:8080/"
        },
        "id": "ziP8tZmJZU86",
        "outputId": "a4465db4-8ae7-4bbe-fda3-c68caf3a1c27"
      },
      "outputs": [
        {
          "output_type": "stream",
          "name": "stdout",
          "text": [
            "####################################################################################################\n",
            "ekonomi 4\n",
            "aspek 1\n",
            "linier 1\n",
            "teknik 3\n",
            "properti 1\n",
            "jaring 1\n",
            "kenal 1\n",
            "ekologi 1\n",
            "bank 2\n",
            "komputer 1\n",
            "prinsip 1\n",
            "rupiah 1\n",
            "pasar 1\n",
            "dasar 1\n",
            "indonesia 2\n",
            "digital 1\n",
            "matematika 1\n",
            "industri 1\n",
            "rangkai 1\n",
            "teori 1\n",
            "algoritma 1\n",
            "operasi 1\n",
            "konsep 1\n",
            "hukum 1\n",
            "makro 1\n",
            "akuntansi 2\n",
            "statika 1\n",
            "suci 1\n",
            "aman 1\n",
            "pemrograman 2\n",
            "umum 1\n",
            "listrik 1\n",
            "elektro 1\n",
            "kitab 1\n",
            "uang 1\n",
            "aplikasi 3\n",
            "manajemen 3\n",
            "modal 1\n",
            "main 1\n",
            "multinasional 1\n",
            "kriptografi 1\n",
            "lanskap 1\n",
            "logika 1\n",
            "saham 1\n",
            "bisnis 2\n",
            "elektromagnetik 1\n",
            "antar 1\n",
            "kaya 1\n",
            "idfs: {'ekonomi': 1.720159303405957, 'aspek': 2.3222192947339195, 'linier': 2.3222192947339195, 'teknik': 1.845098040014257, 'properti': 2.3222192947339195, 'jaring': 2.3222192947339195, 'kenal': 2.3222192947339195, 'ekologi': 2.3222192947339195, 'bank': 2.0211892990699383, 'komputer': 2.3222192947339195, 'prinsip': 2.3222192947339195, 'rupiah': 2.3222192947339195, 'pasar': 2.3222192947339195, 'dasar': 2.3222192947339195, 'indonesia': 2.0211892990699383, 'digital': 2.3222192947339195, 'matematika': 2.3222192947339195, 'industri': 2.3222192947339195, 'rangkai': 2.3222192947339195, 'teori': 2.3222192947339195, 'algoritma': 2.3222192947339195, 'operasi': 2.3222192947339195, 'konsep': 2.3222192947339195, 'hukum': 2.3222192947339195, 'makro': 2.3222192947339195, 'akuntansi': 2.0211892990699383, 'statika': 2.3222192947339195, 'suci': 2.3222192947339195, 'aman': 2.3222192947339195, 'pemrograman': 2.0211892990699383, 'umum': 2.3222192947339195, 'listrik': 2.3222192947339195, 'elektro': 2.3222192947339195, 'kitab': 2.3222192947339195, 'uang': 2.3222192947339195, 'aplikasi': 1.845098040014257, 'manajemen': 1.845098040014257, 'modal': 2.3222192947339195, 'main': 2.3222192947339195, 'multinasional': 2.3222192947339195, 'kriptografi': 2.3222192947339195, 'lanskap': 2.3222192947339195, 'logika': 2.3222192947339195, 'saham': 2.3222192947339195, 'bisnis': 2.0211892990699383, 'elektromagnetik': 2.3222192947339195, 'antar': 2.3222192947339195, 'kaya': 2.3222192947339195}\n",
            "=============================================================================================================================\n"
          ]
        }
      ],
      "source": [
        "# Menghitung IDF\n",
        "idfs = (compute_idf([word for word in wordDict]))\n",
        "\n",
        "print(\"idfs:\",idfs)\n",
        "print(\"=\"*125)"
      ]
    },
    {
      "cell_type": "code",
      "execution_count": null,
      "metadata": {
        "scrolled": false,
        "colab": {
          "base_uri": "https://localhost:8080/"
        },
        "id": "jlc-VS77ZU86",
        "outputId": "97f8a839-c842-4932-da77-c6e4aa4c0c13"
      },
      "outputs": [
        {
          "output_type": "stream",
          "name": "stdout",
          "text": [
            "tf_idf[0] {'ekonomi': 1.720159303405957, 'aspek': 0.0, 'linier': 0.0, 'teknik': 0.0, 'properti': 0.0, 'jaring': 0.0, 'kenal': 0.0, 'ekologi': 0.0, 'bank': 0.0, 'komputer': 0.0, 'prinsip': 0.0, 'rupiah': 0.0, 'pasar': 0.0, 'dasar': 0.0, 'indonesia': 0.0, 'digital': 0.0, 'matematika': 0.0, 'industri': 0.0, 'rangkai': 0.0, 'teori': 0.0, 'algoritma': 0.0, 'operasi': 0.0, 'konsep': 0.0, 'hukum': 0.0, 'makro': 0.0, 'akuntansi': 2.0211892990699383, 'statika': 0.0, 'suci': 0.0, 'aman': 0.0, 'pemrograman': 0.0, 'umum': 0.0, 'listrik': 0.0, 'elektro': 0.0, 'kitab': 0.0, 'uang': 0.0, 'aplikasi': 0.0, 'manajemen': 1.845098040014257, 'modal': 0.0, 'main': 0.0, 'multinasional': 0.0, 'kriptografi': 0.0, 'lanskap': 0.0, 'logika': 0.0, 'saham': 0.0, 'bisnis': 0.0, 'elektromagnetik': 0.0, 'antar': 0.0, 'kaya': 0.0}\n",
            "tf_idf[1] {'ekonomi': 0.0, 'aspek': 0.0, 'linier': 0.0, 'teknik': 0.0, 'properti': 0.0, 'jaring': 0.0, 'kenal': 0.0, 'ekologi': 0.0, 'bank': 0.0, 'komputer': 0.0, 'prinsip': 0.0, 'rupiah': 0.0, 'pasar': 0.0, 'dasar': 0.0, 'indonesia': 0.0, 'digital': 0.0, 'matematika': 0.0, 'industri': 0.0, 'rangkai': 0.0, 'teori': 0.0, 'algoritma': 2.3222192947339195, 'operasi': 0.0, 'konsep': 0.0, 'hukum': 0.0, 'makro': 0.0, 'akuntansi': 0.0, 'statika': 0.0, 'suci': 0.0, 'aman': 0.0, 'pemrograman': 2.0211892990699383, 'umum': 0.0, 'listrik': 0.0, 'elektro': 0.0, 'kitab': 0.0, 'uang': 0.0, 'aplikasi': 0.0, 'manajemen': 0.0, 'modal': 0.0, 'main': 0.0, 'multinasional': 0.0, 'kriptografi': 0.0, 'lanskap': 0.0, 'logika': 0.0, 'saham': 0.0, 'bisnis': 0.0, 'elektromagnetik': 0.0, 'antar': 0.0, 'kaya': 0.0}\n",
            "tf_idf[2] {'ekonomi': 0.0, 'aspek': 0.0, 'linier': 0.0, 'teknik': 1.845098040014257, 'properti': 0.0, 'jaring': 0.0, 'kenal': 0.0, 'ekologi': 0.0, 'bank': 0.0, 'komputer': 0.0, 'prinsip': 0.0, 'rupiah': 0.0, 'pasar': 0.0, 'dasar': 2.3222192947339195, 'indonesia': 0.0, 'digital': 0.0, 'matematika': 0.0, 'industri': 0.0, 'rangkai': 0.0, 'teori': 0.0, 'algoritma': 0.0, 'operasi': 0.0, 'konsep': 0.0, 'hukum': 0.0, 'makro': 0.0, 'akuntansi': 0.0, 'statika': 0.0, 'suci': 0.0, 'aman': 0.0, 'pemrograman': 0.0, 'umum': 0.0, 'listrik': 0.0, 'elektro': 2.3222192947339195, 'kitab': 0.0, 'uang': 0.0, 'aplikasi': 0.0, 'manajemen': 0.0, 'modal': 0.0, 'main': 0.0, 'multinasional': 0.0, 'kriptografi': 0.0, 'lanskap': 0.0, 'logika': 0.0, 'saham': 0.0, 'bisnis': 0.0, 'elektromagnetik': 0.0, 'antar': 0.0, 'kaya': 0.0}\n"
          ]
        }
      ],
      "source": [
        "# Menghitung TFIDF\n",
        "tf_idf = list()\n",
        "for i in range(0, len(data_lower)):\n",
        "    tf_idf.append(compute_tfidf(tf[i], idfs))\n",
        "    \n",
        "print(\"tf_idf[0]\",tf_idf[0])\n",
        "print(\"tf_idf[1]\",tf_idf[1])\n",
        "print(\"tf_idf[2]\",tf_idf[2])"
      ]
    },
    {
      "cell_type": "markdown",
      "metadata": {
        "id": "u5232GftZU87"
      },
      "source": [
        "## 4. Metode VSM dan Perangkingan dengan Cosine Similarity\n"
      ]
    },
    {
      "cell_type": "code",
      "execution_count": null,
      "metadata": {
        "id": "xVTWHH91ZU88"
      },
      "outputs": [],
      "source": [
        "# Definisi variabel\n",
        "# Query berada pada dokumen index ke nol di file csv =  akuntansi dan manajemen ekonomi\n",
        "query = tf_idf[0]\n",
        "dokumen = {}\n",
        "for i in range(1, len(data_list)):\n",
        "    dokumen[i] = tf_idf[i]"
      ]
    },
    {
      "cell_type": "code",
      "source": [
        "# Menghitung bobot query dikalikan bobot dokumen pembanding\n",
        "numerator = {}\n",
        "for i in range(1, len(data_list)):\n",
        "    numerator[i] = sum([query[x] * dokumen[i][x] for x in wordSet])\n",
        "\n",
        "numerator"
      ],
      "metadata": {
        "colab": {
          "base_uri": "https://localhost:8080/"
        },
        "id": "vlDUkGhclog3",
        "outputId": "393df215-5cf2-4842-f491-d346b78a3587"
      },
      "execution_count": null,
      "outputs": [
        {
          "output_type": "execute_result",
          "data": {
            "text/plain": [
              "{1: 0.0,\n",
              " 2: 0.0,\n",
              " 3: 0.0,\n",
              " 4: 0.0,\n",
              " 5: 0.0,\n",
              " 6: 0.0,\n",
              " 7: 0.0,\n",
              " 8: 0.0,\n",
              " 9: 0.0,\n",
              " 10: 0.0,\n",
              " 11: 2.9589480290940675,\n",
              " 12: 0.0,\n",
              " 13: 0.0,\n",
              " 14: 0.0,\n",
              " 15: 0.0,\n",
              " 16: 4.0852061826748285,\n",
              " 17: 2.9589480290940675,\n",
              " 18: 3.4043867772644525,\n",
              " 19: 2.9589480290940675,\n",
              " 20: 3.4043867772644525}"
            ]
          },
          "metadata": {},
          "execution_count": 97
        }
      ]
    },
    {
      "cell_type": "code",
      "source": [
        "sum_query = sum([query[x]**2 for x in query.keys()]) #kuadrat dari bobot query\n",
        "sum_dok = {}\n",
        "denominator = {}\n",
        "for i in range(1, len(data_list)):\n",
        "    sum_dok[i] = sum([dokumen[i][x]**2 for x in dokumen[i].keys()])#kuadrat dari bobot dokumen i\n",
        "    #perkalian hasil dari kuadrat di atas (query terhadap dokumen pembandingnya) \n",
        "    denominator[i] = math.sqrt(sum_query) * math.sqrt(sum_dok[i]) \n",
        "\n",
        "denominator"
      ],
      "metadata": {
        "colab": {
          "base_uri": "https://localhost:8080/"
        },
        "id": "AWFXemYVlwBA",
        "outputId": "447bcf85-d857-402d-c3d4-a8c3979b3f0c"
      },
      "execution_count": null,
      "outputs": [
        {
          "output_type": "execute_result",
          "data": {
            "text/plain": [
              "{1: 9.951397734410598,\n",
              " 2: 12.176313893168766,\n",
              " 3: 9.587322222856221,\n",
              " 4: 12.176313893168766,\n",
              " 5: 9.951397734410598,\n",
              " 6: 10.615636826879674,\n",
              " 7: 10.615636826879674,\n",
              " 8: 13.001446760276565,\n",
              " 9: 9.587322222856221,\n",
              " 10: 14.304142499467654,\n",
              " 11: 9.341443271064207,\n",
              " 12: 12.46499857555284,\n",
              " 13: 15.012777573800523,\n",
              " 14: 14.550672221881582,\n",
              " 15: 16.372780299287545,\n",
              " 16: 15.285009274502764,\n",
              " 17: 11.399430101318277,\n",
              " 18: 9.587322222856221,\n",
              " 19: 11.399430101318277,\n",
              " 20: 12.176313893168766}"
            ]
          },
          "metadata": {},
          "execution_count": 98
        }
      ]
    },
    {
      "cell_type": "code",
      "source": [
        "# Cosine(Q, Di)\n",
        "\n",
        "cosine = {}\n",
        "for i in range(1, len(data_list)):\n",
        "    if (numerator[i]==0):\n",
        "        cosine[i] = 0.0\n",
        "    else:\n",
        "        cosine[i] = float(numerator[i]) / denominator[i]\n",
        "        print('Cosine '+str(i)+' = ', cosine[i])"
      ],
      "metadata": {
        "colab": {
          "base_uri": "https://localhost:8080/"
        },
        "id": "nqdVSkiIl1yI",
        "outputId": "f98a3e91-8541-41c7-85f7-35dde9737bfd"
      },
      "execution_count": null,
      "outputs": [
        {
          "output_type": "stream",
          "name": "stdout",
          "text": [
            "Cosine 11 =  0.3167549106956119\n",
            "Cosine 16 =  0.267268806273441\n",
            "Cosine 17 =  0.25956982084147195\n",
            "Cosine 18 =  0.355092558498595\n",
            "Cosine 19 =  0.25956982084147195\n",
            "Cosine 20 =  0.27959091783716283\n"
          ]
        }
      ]
    },
    {
      "cell_type": "code",
      "source": [
        "def takeSecond(elem):\n",
        "    return elem[1]\n",
        "\n",
        "cosineMap = list()\n",
        "for i in range(1, len(data_list)):\n",
        "    word = ('Dokumen ke '+str(i),cosine[i])\n",
        "    cosineMap.insert(i,word)   \n",
        "\n",
        "cosineMap.sort(key=takeSecond,reverse=True)\n",
        "x = 'Hasil Perangkingan : '\n",
        "print(x)\n",
        "cosineMap"
      ],
      "metadata": {
        "colab": {
          "base_uri": "https://localhost:8080/"
        },
        "id": "EVjg8ivEl4qw",
        "outputId": "2b0e2522-9347-4eb7-8677-ff6b0bbd2d2f"
      },
      "execution_count": null,
      "outputs": [
        {
          "output_type": "stream",
          "name": "stdout",
          "text": [
            "Hasil Perangkingan : \n"
          ]
        },
        {
          "output_type": "execute_result",
          "data": {
            "text/plain": [
              "[('Dokumen ke 18', 0.355092558498595),\n",
              " ('Dokumen ke 11', 0.3167549106956119),\n",
              " ('Dokumen ke 20', 0.27959091783716283),\n",
              " ('Dokumen ke 16', 0.267268806273441),\n",
              " ('Dokumen ke 17', 0.25956982084147195),\n",
              " ('Dokumen ke 19', 0.25956982084147195),\n",
              " ('Dokumen ke 1', 0.0),\n",
              " ('Dokumen ke 2', 0.0),\n",
              " ('Dokumen ke 3', 0.0),\n",
              " ('Dokumen ke 4', 0.0),\n",
              " ('Dokumen ke 5', 0.0),\n",
              " ('Dokumen ke 6', 0.0),\n",
              " ('Dokumen ke 7', 0.0),\n",
              " ('Dokumen ke 8', 0.0),\n",
              " ('Dokumen ke 9', 0.0),\n",
              " ('Dokumen ke 10', 0.0),\n",
              " ('Dokumen ke 12', 0.0),\n",
              " ('Dokumen ke 13', 0.0),\n",
              " ('Dokumen ke 14', 0.0),\n",
              " ('Dokumen ke 15', 0.0)]"
            ]
          },
          "metadata": {},
          "execution_count": 100
        }
      ]
    },
    {
      "cell_type": "code",
      "source": [
        "baca"
      ],
      "metadata": {
        "colab": {
          "base_uri": "https://localhost:8080/",
          "height": 558
        },
        "id": "mI9EWA4umCYo",
        "outputId": "5677938b-72d4-43b4-a777-357607726b60"
      },
      "execution_count": null,
      "outputs": [
        {
          "output_type": "execute_result",
          "data": {
            "text/html": [
              "\n",
              "  <div id=\"df-1ec2b6ee-fae5-460e-830b-ded6bb13bc08\">\n",
              "    <div class=\"colab-df-container\">\n",
              "      <div>\n",
              "<style scoped>\n",
              "    .dataframe tbody tr th:only-of-type {\n",
              "        vertical-align: middle;\n",
              "    }\n",
              "\n",
              "    .dataframe tbody tr th {\n",
              "        vertical-align: top;\n",
              "    }\n",
              "\n",
              "    .dataframe thead th {\n",
              "        text-align: right;\n",
              "    }\n",
              "</style>\n",
              "<table border=\"1\" class=\"dataframe\">\n",
              "  <thead>\n",
              "    <tr style=\"text-align: right;\">\n",
              "      <th></th>\n",
              "      <th>Judul</th>\n",
              "    </tr>\n",
              "  </thead>\n",
              "  <tbody>\n",
              "    <tr>\n",
              "      <th>0</th>\n",
              "      <td>akuntansi dan manajemen ekonomi</td>\n",
              "    </tr>\n",
              "    <tr>\n",
              "      <th>1</th>\n",
              "      <td>Algoritma dan Pemrograman</td>\n",
              "    </tr>\n",
              "    <tr>\n",
              "      <th>2</th>\n",
              "      <td>Dasar-dasar Elektro Teknik</td>\n",
              "    </tr>\n",
              "    <tr>\n",
              "      <th>3</th>\n",
              "      <td>Aplikasi Elektromagnetik</td>\n",
              "    </tr>\n",
              "    <tr>\n",
              "      <th>4</th>\n",
              "      <td>Konsep dan Aplikasi Statika</td>\n",
              "    </tr>\n",
              "    <tr>\n",
              "      <th>5</th>\n",
              "      <td>Pemrograman Linier</td>\n",
              "    </tr>\n",
              "    <tr>\n",
              "      <th>6</th>\n",
              "      <td>Rangkaian Listrik</td>\n",
              "    </tr>\n",
              "    <tr>\n",
              "      <th>7</th>\n",
              "      <td>Ekologi Industri</td>\n",
              "    </tr>\n",
              "    <tr>\n",
              "      <th>8</th>\n",
              "      <td>Kriptografi untuk Keamanan Jaringan</td>\n",
              "    </tr>\n",
              "    <tr>\n",
              "      <th>9</th>\n",
              "      <td>Teknik Digital</td>\n",
              "    </tr>\n",
              "    <tr>\n",
              "      <th>10</th>\n",
              "      <td>Logika Matematika untuk Teknik Komputer</td>\n",
              "    </tr>\n",
              "    <tr>\n",
              "      <th>11</th>\n",
              "      <td>Prinsip-prinsip Ekonomi</td>\n",
              "    </tr>\n",
              "    <tr>\n",
              "      <th>12</th>\n",
              "      <td>Kaya dan Bisnis Properti</td>\n",
              "    </tr>\n",
              "    <tr>\n",
              "      <th>13</th>\n",
              "      <td>Kitab Suci Pemain Saham</td>\n",
              "    </tr>\n",
              "    <tr>\n",
              "      <th>14</th>\n",
              "      <td>Hukum Bisnis Pasar Modal</td>\n",
              "    </tr>\n",
              "    <tr>\n",
              "      <th>15</th>\n",
              "      <td>Mengenal Aspek-aspek Operasi Bank Umum</td>\n",
              "    </tr>\n",
              "    <tr>\n",
              "      <th>16</th>\n",
              "      <td>Akuntansi Bank Teori dan Aplikasi dalam Rupiah</td>\n",
              "    </tr>\n",
              "    <tr>\n",
              "      <th>17</th>\n",
              "      <td>Lanskap Ekonomi Indonesia</td>\n",
              "    </tr>\n",
              "    <tr>\n",
              "      <th>18</th>\n",
              "      <td>Pengantar Manajemen</td>\n",
              "    </tr>\n",
              "    <tr>\n",
              "      <th>19</th>\n",
              "      <td>Makro Ekonomi Indonesia</td>\n",
              "    </tr>\n",
              "    <tr>\n",
              "      <th>20</th>\n",
              "      <td>Manajemen Keuangan Multinasional</td>\n",
              "    </tr>\n",
              "  </tbody>\n",
              "</table>\n",
              "</div>\n",
              "      <button class=\"colab-df-convert\" onclick=\"convertToInteractive('df-1ec2b6ee-fae5-460e-830b-ded6bb13bc08')\"\n",
              "              title=\"Convert this dataframe to an interactive table.\"\n",
              "              style=\"display:none;\">\n",
              "        \n",
              "  <svg xmlns=\"http://www.w3.org/2000/svg\" height=\"24px\"viewBox=\"0 0 24 24\"\n",
              "       width=\"24px\">\n",
              "    <path d=\"M0 0h24v24H0V0z\" fill=\"none\"/>\n",
              "    <path d=\"M18.56 5.44l.94 2.06.94-2.06 2.06-.94-2.06-.94-.94-2.06-.94 2.06-2.06.94zm-11 1L8.5 8.5l.94-2.06 2.06-.94-2.06-.94L8.5 2.5l-.94 2.06-2.06.94zm10 10l.94 2.06.94-2.06 2.06-.94-2.06-.94-.94-2.06-.94 2.06-2.06.94z\"/><path d=\"M17.41 7.96l-1.37-1.37c-.4-.4-.92-.59-1.43-.59-.52 0-1.04.2-1.43.59L10.3 9.45l-7.72 7.72c-.78.78-.78 2.05 0 2.83L4 21.41c.39.39.9.59 1.41.59.51 0 1.02-.2 1.41-.59l7.78-7.78 2.81-2.81c.8-.78.8-2.07 0-2.86zM5.41 20L4 18.59l7.72-7.72 1.47 1.35L5.41 20z\"/>\n",
              "  </svg>\n",
              "      </button>\n",
              "      \n",
              "  <style>\n",
              "    .colab-df-container {\n",
              "      display:flex;\n",
              "      flex-wrap:wrap;\n",
              "      gap: 12px;\n",
              "    }\n",
              "\n",
              "    .colab-df-convert {\n",
              "      background-color: #E8F0FE;\n",
              "      border: none;\n",
              "      border-radius: 50%;\n",
              "      cursor: pointer;\n",
              "      display: none;\n",
              "      fill: #1967D2;\n",
              "      height: 32px;\n",
              "      padding: 0 0 0 0;\n",
              "      width: 32px;\n",
              "    }\n",
              "\n",
              "    .colab-df-convert:hover {\n",
              "      background-color: #E2EBFA;\n",
              "      box-shadow: 0px 1px 2px rgba(60, 64, 67, 0.3), 0px 1px 3px 1px rgba(60, 64, 67, 0.15);\n",
              "      fill: #174EA6;\n",
              "    }\n",
              "\n",
              "    [theme=dark] .colab-df-convert {\n",
              "      background-color: #3B4455;\n",
              "      fill: #D2E3FC;\n",
              "    }\n",
              "\n",
              "    [theme=dark] .colab-df-convert:hover {\n",
              "      background-color: #434B5C;\n",
              "      box-shadow: 0px 1px 3px 1px rgba(0, 0, 0, 0.15);\n",
              "      filter: drop-shadow(0px 1px 2px rgba(0, 0, 0, 0.3));\n",
              "      fill: #FFFFFF;\n",
              "    }\n",
              "  </style>\n",
              "\n",
              "      <script>\n",
              "        const buttonEl =\n",
              "          document.querySelector('#df-1ec2b6ee-fae5-460e-830b-ded6bb13bc08 button.colab-df-convert');\n",
              "        buttonEl.style.display =\n",
              "          google.colab.kernel.accessAllowed ? 'block' : 'none';\n",
              "\n",
              "        async function convertToInteractive(key) {\n",
              "          const element = document.querySelector('#df-1ec2b6ee-fae5-460e-830b-ded6bb13bc08');\n",
              "          const dataTable =\n",
              "            await google.colab.kernel.invokeFunction('convertToInteractive',\n",
              "                                                     [key], {});\n",
              "          if (!dataTable) return;\n",
              "\n",
              "          const docLinkHtml = 'Like what you see? Visit the ' +\n",
              "            '<a target=\"_blank\" href=https://colab.research.google.com/notebooks/data_table.ipynb>data table notebook</a>'\n",
              "            + ' to learn more about interactive tables.';\n",
              "          element.innerHTML = '';\n",
              "          dataTable['output_type'] = 'display_data';\n",
              "          await google.colab.output.renderOutput(dataTable, element);\n",
              "          const docLink = document.createElement('div');\n",
              "          docLink.innerHTML = docLinkHtml;\n",
              "          element.appendChild(docLink);\n",
              "        }\n",
              "      </script>\n",
              "    </div>\n",
              "  </div>\n",
              "  "
            ],
            "text/plain": [
              "                                             Judul\n",
              "0                  akuntansi dan manajemen ekonomi\n",
              "1                        Algoritma dan Pemrograman\n",
              "2                       Dasar-dasar Elektro Teknik\n",
              "3                         Aplikasi Elektromagnetik\n",
              "4                      Konsep dan Aplikasi Statika\n",
              "5                               Pemrograman Linier\n",
              "6                                Rangkaian Listrik\n",
              "7                                 Ekologi Industri\n",
              "8              Kriptografi untuk Keamanan Jaringan\n",
              "9                                   Teknik Digital\n",
              "10         Logika Matematika untuk Teknik Komputer\n",
              "11                         Prinsip-prinsip Ekonomi\n",
              "12                        Kaya dan Bisnis Properti\n",
              "13                         Kitab Suci Pemain Saham\n",
              "14                        Hukum Bisnis Pasar Modal\n",
              "15          Mengenal Aspek-aspek Operasi Bank Umum\n",
              "16  Akuntansi Bank Teori dan Aplikasi dalam Rupiah\n",
              "17                       Lanskap Ekonomi Indonesia\n",
              "18                            Pengantar Manajemen \n",
              "19                         Makro Ekonomi Indonesia\n",
              "20                Manajemen Keuangan Multinasional"
            ]
          },
          "metadata": {},
          "execution_count": 39
        }
      ]
    }
  ],
  "metadata": {
    "kernelspec": {
      "display_name": "Python 3",
      "language": "python",
      "name": "python3"
    },
    "language_info": {
      "codemirror_mode": {
        "name": "ipython",
        "version": 3
      },
      "file_extension": ".py",
      "mimetype": "text/x-python",
      "name": "python",
      "nbconvert_exporter": "python",
      "pygments_lexer": "ipython3",
      "version": "3.7.1"
    },
    "colab": {
      "name": "TUBES_TKI.ipynb",
      "provenance": []
    }
  },
  "nbformat": 4,
  "nbformat_minor": 0
}